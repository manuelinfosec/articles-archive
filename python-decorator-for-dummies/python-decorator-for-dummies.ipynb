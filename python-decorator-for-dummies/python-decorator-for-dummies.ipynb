{
 "cells": [
  {
   "cell_type": "code",
   "execution_count": null,
   "metadata": {},
   "outputs": [],
   "source": [
    "import discord\n",
    "client = discord.Client(intents=intents)\n",
    "\n",
    "@client.event # take note of this line\n",
    "async def on_ready():\n",
    "    print(f\"Logged in as {client.user}\")\n",
    "\n",
    "@client.event # take note of this line\n",
    "async def on_message(msg):\n",
    "    if msg.content == \"\":\n",
    "        pass\n",
    "# ... SOME MORE CODE ..."
   ]
  },
  {
   "cell_type": "code",
   "execution_count": 1,
   "metadata": {},
   "outputs": [
    {
     "name": "stdout",
     "output_type": "stream",
     "text": [
      "Yes!\n"
     ]
    }
   ],
   "source": [
    "def shout(word='yes'):\n",
    "    return word.capitalize() + '!'\n",
    "\n",
    "print(shout())\n"
   ]
  },
  {
   "cell_type": "code",
   "execution_count": 2,
   "metadata": {},
   "outputs": [],
   "source": [
    "scream = shout"
   ]
  },
  {
   "cell_type": "code",
   "execution_count": 3,
   "metadata": {},
   "outputs": [
    {
     "name": "stdout",
     "output_type": "stream",
     "text": [
      "Yes!\n"
     ]
    }
   ],
   "source": [
    "print(scream())"
   ]
  },
  {
   "cell_type": "code",
   "execution_count": 4,
   "metadata": {},
   "outputs": [
    {
     "name": "stdout",
     "output_type": "stream",
     "text": [
      "name 'shout' is not defined\n",
      "Yes!\n"
     ]
    }
   ],
   "source": [
    "# deleting the shout() object\n",
    "del shout\n",
    "\n",
    "try:\n",
    "\t# trying to access the deleted shout() object\n",
    "    print(shout())\n",
    "except NameError as e:\n",
    "    print(e)\n",
    "\n",
    "print(scream())"
   ]
  },
  {
   "cell_type": "code",
   "execution_count": 5,
   "metadata": {},
   "outputs": [
    {
     "name": "stdout",
     "output_type": "stream",
     "text": [
      "yes...\n"
     ]
    }
   ],
   "source": [
    "def talk():\n",
    "    # Defining a function on the fly in `talk` ...\n",
    "    def whisper(word='yes'):\n",
    "        return word.lower() + '...'\n",
    "    # ... and using it right away!\n",
    "    print(whisper())\n",
    "\n",
    "talk()"
   ]
  },
  {
   "cell_type": "code",
   "execution_count": 6,
   "metadata": {},
   "outputs": [
    {
     "name": "stdout",
     "output_type": "stream",
     "text": [
      "name 'whisper' is not defined\n"
     ]
    }
   ],
   "source": [
    "try:\n",
    "    print(whisper())\n",
    "except NameError as e:\n",
    "    print(e)"
   ]
  },
  {
   "cell_type": "code",
   "execution_count": 8,
   "metadata": {},
   "outputs": [],
   "source": [
    "def getTalk(kind='shout'):\n",
    "    # We define functions on the fly\n",
    "    def shout(word='yes'):\n",
    "        return word.capitalize() + '!'\n",
    "\n",
    "    def whisper(word='yes'):\n",
    "        return word.lower() + '...'\n",
    "\n",
    "    # Then we return one of them\n",
    "    if kind == 'shout':\n",
    "\t    # What happened here?\n",
    "        return shout  \n",
    "    else:\n",
    "        return whisper"
   ]
  },
  {
   "cell_type": "code",
   "execution_count": 9,
   "metadata": {},
   "outputs": [
    {
     "name": "stdout",
     "output_type": "stream",
     "text": [
      "<function getTalk.<locals>.shout at 0x000001C34384AA60>\n",
      "Yes!\n",
      "yes...\n"
     ]
    }
   ],
   "source": [
    "# Get the function and assign it to a variable\n",
    "talk = getTalk()     \n",
    "\n",
    "# You can see that `talk` is here a function object:\n",
    "print(talk)\n",
    "\n",
    "# The object is the one returned by the function:\n",
    "print(talk())\n",
    "\n",
    "# And you can even use it directly if you feel wild:\n",
    "print(getTalk('whisper')())"
   ]
  },
  {
   "cell_type": "code",
   "execution_count": 10,
   "metadata": {},
   "outputs": [
    {
     "name": "stdout",
     "output_type": "stream",
     "text": [
      "I do something before then I call the function you gave me\n",
      "Yes!\n"
     ]
    }
   ],
   "source": [
    "def doSomethingBefore(func): \n",
    "    print(\"I do something before then I call the function you gave me\")\n",
    "    print(func())\n",
    "\n",
    "doSomethingBefore(scream)"
   ]
  },
  {
   "cell_type": "code",
   "execution_count": 11,
   "metadata": {},
   "outputs": [],
   "source": [
    "def my_shiny_new_decorator(a_function_to_decorate):\n",
    "    # Inside, the decorator defines a function on the fly: the wrapper.\n",
    "    # This function is going to be wrapped around the original function\n",
    "    # so it can execute code before and after it.\n",
    "    def the_wrapper_around_the_original_function():\n",
    "    \n",
    "        # Put here the code you want to be executed BEFORE the original \n",
    "        # function is called\n",
    "        print(\"Before the function runs\")\n",
    "\n",
    "        # Call the function from the parameter here (using parentheses)\n",
    "        a_function_to_decorate()\n",
    "\n",
    "        # Put here the code you want to be executed AFTER the original \n",
    "        # function is called\n",
    "        print(\"After the function runs\")\n",
    "\n",
    "    # At this point, `a_function_to_decorate` HAS NEVER BEEN EXECUTED.\n",
    "    # We return the wrapper function we have just created.\n",
    "    # The wrapper contains the function and the code to execute before\n",
    "    # ...and after. It’s ready to use!\n",
    "    return the_wrapper_around_the_original_function"
   ]
  },
  {
   "cell_type": "code",
   "execution_count": 12,
   "metadata": {},
   "outputs": [
    {
     "name": "stdout",
     "output_type": "stream",
     "text": [
      "I am a stand alone function, don’t you dare modify me\n"
     ]
    }
   ],
   "source": [
    "def a_stand_alone_function():\n",
    "    print(\"I am a stand alone function, don’t you dare modify me\")\n",
    "\n",
    "a_stand_alone_function() "
   ]
  },
  {
   "cell_type": "code",
   "execution_count": 13,
   "metadata": {},
   "outputs": [
    {
     "name": "stdout",
     "output_type": "stream",
     "text": [
      "Before the function runs\n",
      "I am a stand alone function, don’t you dare modify me\n",
      "After the function runs\n"
     ]
    }
   ],
   "source": [
    "a_stand_alone_function_decorated = my_shiny_new_decorator(a_stand_alone_function)\n",
    "a_stand_alone_function_decorated()"
   ]
  },
  {
   "cell_type": "code",
   "execution_count": null,
   "metadata": {},
   "outputs": [],
   "source": [
    "a_stand_alone_function = my_shiny_new_decorator(a_stand_alone_function)\n",
    "a_stand_alone_function()"
   ]
  }
 ],
 "metadata": {
  "kernelspec": {
   "display_name": "Python 3.9.4 64-bit",
   "language": "python",
   "name": "python3"
  },
  "language_info": {
   "codemirror_mode": {
    "name": "ipython",
    "version": 3
   },
   "file_extension": ".py",
   "mimetype": "text/x-python",
   "name": "python",
   "nbconvert_exporter": "python",
   "pygments_lexer": "ipython3",
   "version": "3.9.4"
  },
  "orig_nbformat": 4,
  "vscode": {
   "interpreter": {
    "hash": "82ed002fa2d4956f5c6aec99bcefe0f73a9f79882f3c9e2319b14958a5896ac5"
   }
  }
 },
 "nbformat": 4,
 "nbformat_minor": 2
}
